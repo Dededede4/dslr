{
 "cells": [
  {
   "cell_type": "markdown",
   "metadata": {},
   "source": [
    "# Régression logistique - Exercices tirés du MOOC d'Andrew Ng"
   ]
  },
  {
   "cell_type": "markdown",
   "metadata": {},
   "source": [
    "## Chargement des données"
   ]
  },
  {
   "cell_type": "markdown",
   "metadata": {},
   "source": [
    "Le jeu de données représente les chances de différents étudiants d'être admis à un programme universitaire en fonction de leurs résultats à deux examens"
   ]
  },
  {
   "cell_type": "markdown",
   "metadata": {},
   "source": [
    "### Charger les données du fichier ex2data1.csv"
   ]
  },
  {
   "cell_type": "code",
   "execution_count": 1,
   "metadata": {},
   "outputs": [],
   "source": [
    "import numpy as np\n",
    "import pandas as pd\n",
    "from tqdm import tqdm\n",
    "import matplotlib.pyplot as plt\n",
    "%matplotlib inline\n",
    "np.set_printoptions(formatter={'float': lambda x: \"{0:0.6f}\".format(x)})"
   ]
  },
  {
   "cell_type": "code",
   "execution_count": 2,
   "metadata": {},
   "outputs": [],
   "source": [
    "data = pd.read_csv(\"dataset_train.csv\")\n",
    "data = data.drop(columns = ['First Name', 'Last Name', 'Birthday', 'Best Hand', 'Index'])\n",
    "data = data.drop(columns = ['Arithmancy', 'Care of Magical Creatures', 'Astronomy'])\n",
    "data = data.dropna() #aulieu de dropna il faut fire la tang\n",
    "# data"
   ]
  },
  {
   "cell_type": "markdown",
   "metadata": {},
   "source": [
    "### Visualiser les données"
   ]
  },
  {
   "cell_type": "markdown",
   "metadata": {},
   "source": [
    "Cette semaine nous vous fournissons la visualisation des données, mais normalement vous auriez à produire un graphe semblable avec matplotlib."
   ]
  },
  {
   "cell_type": "markdown",
   "metadata": {},
   "source": [
    "<img src=\"figure-1.png\">"
   ]
  },
  {
   "cell_type": "markdown",
   "metadata": {},
   "source": [
    "### Découpez vos données en une matrice X et un vecteur y et transformerz-les en array numpy"
   ]
  },
  {
   "cell_type": "code",
   "execution_count": 3,
   "metadata": {},
   "outputs": [],
   "source": [
    "X = np.column_stack((data['Herbology'] ,data['Defense Against the Dark Arts']))\n",
    "# X = data.copy()\n",
    "# X = X.drop(columns = ['Hogwarts House'])\n",
    "y = np.column_stack(data['Hogwarts House'])\n",
    "# X = np.c_[np.ones(X.shape[0]), X]"
   ]
  },
  {
   "cell_type": "code",
   "execution_count": 4,
   "metadata": {},
   "outputs": [
    {
     "data": {
      "text/plain": [
       "array([[5.727180, 4.878861],\n",
       "       [-5.987446, 5.520605],\n",
       "       [7.725017, 3.660761],\n",
       "       ...,\n",
       "       [-3.203269, -5.440189],\n",
       "       [3.442831, -4.536762],\n",
       "       [5.421046, -6.889120]])"
      ]
     },
     "execution_count": 4,
     "metadata": {},
     "output_type": "execute_result"
    }
   ],
   "source": [
    "X"
   ]
  },
  {
   "cell_type": "code",
   "execution_count": 5,
   "metadata": {},
   "outputs": [
    {
     "data": {
      "text/plain": [
       "array([[1.000000, 1.011105, 0.850573],\n",
       "       [1.000000, -1.205710, 0.972013],\n",
       "       [1.000000, 1.389165, 0.620066],\n",
       "       ...,\n",
       "       [1.000000, -0.678847, -1.102150],\n",
       "       [1.000000, 0.578826, -0.931190],\n",
       "       [1.000000, 0.953173, -1.376338]])"
      ]
     },
     "execution_count": 5,
     "metadata": {},
     "output_type": "execute_result"
    }
   ],
   "source": [
    "def normalise(x):\n",
    "    return (x - np.mean(x)) / np.std(x)\n",
    "\n",
    "X = normalise(X)\n",
    "X = np.c_[np.ones(X.shape[0]), X]\n",
    "X"
   ]
  },
  {
   "cell_type": "code",
   "execution_count": 6,
   "metadata": {},
   "outputs": [
    {
     "data": {
      "text/plain": [
       "(1335, 3)"
      ]
     },
     "execution_count": 6,
     "metadata": {},
     "output_type": "execute_result"
    }
   ],
   "source": [
    "X.shape"
   ]
  },
  {
   "cell_type": "code",
   "execution_count": 7,
   "metadata": {},
   "outputs": [
    {
     "data": {
      "text/plain": [
       "array([['Ravenclaw', 'Slytherin', 'Ravenclaw', ..., 'Gryffindor',\n",
       "        'Hufflepuff', 'Hufflepuff']], dtype='<U10')"
      ]
     },
     "execution_count": 7,
     "metadata": {},
     "output_type": "execute_result"
    }
   ],
   "source": [
    "y"
   ]
  },
  {
   "cell_type": "code",
   "execution_count": 8,
   "metadata": {},
   "outputs": [],
   "source": [
    "mask_Ravenclaw = y == \"Ravenclaw\"\n",
    "mask_Gryffindor = y == \"Gryffindor\"\n",
    "mask_Hufflepuff = y == \"Hufflepuff\"\n",
    "mask_Slytherin = y == \"Slytherin\""
   ]
  },
  {
   "cell_type": "code",
   "execution_count": 9,
   "metadata": {},
   "outputs": [],
   "source": [
    "# mask_Ravenclaw"
   ]
  },
  {
   "cell_type": "markdown",
   "metadata": {},
   "source": [
    "Vérifiez bien les dimensions de vos structures de données (X.shape)  \n",
    "Rappelez-vous qu'il est judicieux de fixer les dimensions des vecteurs, par ex. (3,) avec la fonction reshape(3,1).\n",
    "La matrice X doit-elle être de dimensions m x n ou bien m x (n+1) ? Quelle est la valeur de n?"
   ]
  },
  {
   "cell_type": "markdown",
   "metadata": {},
   "source": [
    "### Initialisez theta en un vecteur de zéros"
   ]
  },
  {
   "cell_type": "markdown",
   "metadata": {},
   "source": [
    "\n",
    "Combien de zéros vous faudra-t-il....?"
   ]
  },
  {
   "cell_type": "code",
   "execution_count": 10,
   "metadata": {},
   "outputs": [],
   "source": [
    "theta = np.zeros(X.shape[1])"
   ]
  },
  {
   "cell_type": "markdown",
   "metadata": {},
   "source": [
    "\n",
    "\n",
    "\n",
    "\n",
    "\n",
    "## Formulation de l'hypothèse"
   ]
  },
  {
   "cell_type": "markdown",
   "metadata": {},
   "source": [
    "Revoyez l'équation de l'hypothèse de la régression logistique. Le produit de theta et de X est enveloppé dans une fonction g(z) qui correspond à la fonction sigmoïde. Nous allons commencer par coder cette fonction."
   ]
  },
  {
   "cell_type": "markdown",
   "metadata": {},
   "source": [
    "### Écrivez une fonction _sigmoid_ qui applique la sigmoïde à son argument et retourne le résultat. Si elle reçoit une matrice ou un vecteur en input, elle doit s'appliquer sur chaque élément individuellement et retourner une structure de mêmes dimensions"
   ]
  },
  {
   "cell_type": "code",
   "execution_count": 11,
   "metadata": {},
   "outputs": [],
   "source": [
    "def sigmoid(z):\n",
    "    #print (np.exp(-z))\n",
    "    return (1 / (1 + np.exp(-z)))"
   ]
  },
  {
   "cell_type": "markdown",
   "metadata": {},
   "source": [
    "Vérifiez votre fonction. Quelle valeur renvoie une sigmoïde si z=0? Si z est grand? Si z est petit?  \n",
    "Il est possible que vous ayez un bug lorsque la fonction exponentielle reçoit des valeurs trop grandes. Dans ce cas vous pourrez éventuellement remplacer votre fonction sigmoïde par celle de scipy pour éviter des problèmes dans le reste de votre implémentation."
   ]
  },
  {
   "cell_type": "markdown",
   "metadata": {},
   "source": [
    "### Écrivez une fonction _predict_, qui correspond à l'hypohèse hθ(x), qui prend en paramètres X et theta, applique l'hypothèse du modèle avec la fonction sigmoide, et se débrouille pour que le résultat final soit un vecteur de 1 et de 0 correspondant aux catégories"
   ]
  },
  {
   "cell_type": "code",
   "execution_count": 12,
   "metadata": {},
   "outputs": [],
   "source": [
    "def predict(X, theta):\n",
    "    #print(X.shape, theta.shape)\n",
    "    res = sigmoid(np.dot(X, theta.T))\n",
    "    #print(res.shape)\n",
    "    #print(res)\n",
    "    return(res)"
   ]
  },
  {
   "cell_type": "markdown",
   "metadata": {},
   "source": [
    "## Entraînement du modèle"
   ]
  },
  {
   "cell_type": "markdown",
   "metadata": {},
   "source": [
    "\n",
    "\n",
    "### Définissez la fonction de coût de votre modèle"
   ]
  },
  {
   "cell_type": "code",
   "execution_count": 13,
   "metadata": {},
   "outputs": [],
   "source": [
    "def cost(X, y, theta):\n",
    "    return((-1 / X.shape[0]) * np.sum(y * np.log(predict(X, theta)) + (1 - y) * np.log(1 - predict(X, theta))))\n",
    "\n",
    "#((-1 / X.shape[0])\n",
    "#pensser a normaliser les donées en premier"
   ]
  },
  {
   "cell_type": "markdown",
   "metadata": {},
   "source": [
    "### Calculez le coût de votre modèle non entraîné. Vous devriez obtenir une valeur d'environ 0.693"
   ]
  },
  {
   "cell_type": "code",
   "execution_count": 14,
   "metadata": {},
   "outputs": [
    {
     "name": "stdout",
     "output_type": "stream",
     "text": [
      "0.6931471805599454\n"
     ]
    }
   ],
   "source": [
    "# theta = np.zeros(X.shape[1], dtype=float)\n",
    "# print (cost(X, mask_Ravenclaw, theta))"
   ]
  },
  {
   "cell_type": "markdown",
   "metadata": {},
   "source": [
    "### Écrivez une fonction _fit_ qui prend en arguments le vecteur X et le vecteur y des données d'entraînement et renvoie le vecteur de paramètres _theta_ qui a été appris, ainsi que l'évolution du coût"
   ]
  },
  {
   "cell_type": "markdown",
   "metadata": {},
   "source": [
    "Noter que l'exercice original ne fait pas faire la descente du gradient pour entraîner le modèle, mais plutôt une fonction d'optimisation avancée (_fminunc_ en Matlab). Nous tenterons de faire quand même la descente du gradient. Les plus téméraires peuvent aussi trouver une fonction d'optimisation équivalente en Python et comparer les résultats."
   ]
  },
  {
   "cell_type": "code",
   "execution_count": 15,
   "metadata": {},
   "outputs": [],
   "source": [
    "# def fit(X, y, theta, alpha, num_iters):\n",
    "#     # Initialiser certaines variables utiles\n",
    "#     m = X.shape[0]\n",
    "#     print (m)\n",
    "#     J_history = []\n",
    "#     for _ in range(num_iters):\n",
    "#         theta = theta - (alpha / m) * (np.dot(predict(X, theta) - y, X))\n",
    "#         #print(theta)\n",
    "#         J_history.append(cost(X, y, theta))\n",
    "#     return theta, J_history\n",
    "\n",
    "def fit(X, y, theta, alpha, num_iters):\n",
    "    # Initialiser certaines variables utiles\n",
    "    m = X.shape[0]\n",
    "    J_history = []\n",
    "    for _ in tqdm(range(num_iters)):\n",
    "        theta = theta - (alpha / m) * (np.dot(predict(X, theta) - y, X))\n",
    "        J_history.append(cost(X, y, theta))\n",
    "    return theta, J_history"
   ]
  },
  {
   "cell_type": "markdown",
   "metadata": {},
   "source": [
    "### Lancez l'apprentissage en appelant la fonction _fit_ et en prenant bien soin de récupérer le résultat de *theta* à la fin!!"
   ]
  },
  {
   "cell_type": "markdown",
   "metadata": {},
   "source": [
    "Voyez entre vous quelles valeurs semblent correctes pour alpha et num_iters"
   ]
  },
  {
   "cell_type": "code",
   "execution_count": 16,
   "metadata": {},
   "outputs": [
    {
     "name": "stdout",
     "output_type": "stream",
     "text": [
      "(1335, 3) (3,) (1, 1335)\n",
      "1335\n",
      "1335\n",
      "1335\n",
      "1335\n",
      "[[-0.141857 0.101358 0.189388]\n",
      " [-0.126327 0.103618 0.186761]\n",
      " [-0.141580 0.101435 0.189408]\n",
      " ...\n",
      " [-0.101671 0.107545 0.183221]\n",
      " [-0.113680 0.105763 0.185189]\n",
      " [-0.110406 0.106310 0.184766]]\n"
     ]
    }
   ],
   "source": [
    "# theta = np.zeros(3, dtype=float)\n",
    "print (X.shape, theta.shape, y.shape)\n",
    "\n",
    "theta = np.zeros(X.shape[1], dtype=float)\n",
    "thetaR, J_historyR = fit(X, mask_Ravenclaw, theta, 0.001, 600)\n",
    "theta = np.zeros(X.shape[1], dtype=float)\n",
    "thetaG, J_historyG = fit(X, mask_Gryffindor, theta, 0.001, 600)\n",
    "theta = np.zeros(X.shape[1], dtype=float)\n",
    "thetaH, J_historyH = fit(X, mask_Hufflepuff, theta, 0.001, 600)\n",
    "theta = np.zeros(X.shape[1], dtype=float)\n",
    "thetaS, J_historyS = fit(X, mask_Slytherin, theta, 0.001, 600)\n",
    "\n",
    "\n",
    "print (thetaR)"
   ]
  },
  {
   "cell_type": "markdown",
   "metadata": {},
   "source": [
    "### Appelez la fonction _cost_ avec le nouveau theta après entraînement"
   ]
  },
  {
   "cell_type": "markdown",
   "metadata": {},
   "source": [
    "Vous devriez obtenir une valeur autour de 0.203"
   ]
  },
  {
   "cell_type": "code",
   "execution_count": 18,
   "metadata": {},
   "outputs": [],
   "source": [
    "# cost(X, mask_Ravenclaw, theta)\n",
    "thetas = np.array([thetaG[1], thetaS[1], thetaH[1], thetaR[1]])\n",
    "np.savetxt('thetas.csv', thetas, delimiter=',')"
   ]
  },
  {
   "cell_type": "markdown",
   "metadata": {},
   "source": [
    "### On visualise maintenant l'évolution du coût en fonction du nombre d'itérations"
   ]
  },
  {
   "cell_type": "code",
   "execution_count": null,
   "metadata": {},
   "outputs": [],
   "source": [
    "fig = plt.figure()\n",
    "ax = plt.axes()\n",
    "ax.plot(J_historyR)\n",
    "ax.plot(J_historyG)\n",
    "ax.plot(J_historyH)\n",
    "ax.plot(J_historyS)"
   ]
  },
  {
   "cell_type": "markdown",
   "metadata": {},
   "source": [
    "## Évaluation de votre modèle"
   ]
  },
  {
   "cell_type": "markdown",
   "metadata": {},
   "source": [
    "Nous allons évaluer la performance du modèle de deux façons:"
   ]
  },
  {
   "cell_type": "markdown",
   "metadata": {},
   "source": [
    "### Évaluez la probabilité qu'un étudiant ayant obtenu 45 au premier examen, et 85 au deuxième, soit admis"
   ]
  },
  {
   "cell_type": "markdown",
   "metadata": {},
   "source": [
    "Vous devriez avoir une probabilité d'admission de 0.776"
   ]
  },
  {
   "cell_type": "markdown",
   "metadata": {},
   "source": []
  },
  {
   "cell_type": "markdown",
   "metadata": {},
   "source": [
    "### Évaluer l'exactitude (accuracy) des prédictions faites sur les données d'entraînement"
   ]
  },
  {
   "cell_type": "markdown",
   "metadata": {},
   "source": [
    "Utilisez votre fonction _predict_ sur les données d'entraînement (X) et récupérez les prédictions dans un vecteur p"
   ]
  },
  {
   "cell_type": "code",
   "execution_count": null,
   "metadata": {},
   "outputs": [],
   "source": [
    "test = pd.read_csv(\"dataset_test.csv\")\n",
    "\n",
    "solution = pd.read_csv(\"Correction/dataset_truth.csv\")\n",
    "\n",
    "# solution = np.column_stack((solution['Herbology'] ,solution['Defense Against the Dark Arts']))\n",
    "\n",
    "test = test.drop(columns = ['Hogwarts House'])\n",
    "\n",
    "test = test.drop(columns = ['First Name', 'Last Name', 'Birthday', 'Best Hand', 'Index'])\n",
    "test = test.drop(columns = ['Arithmancy', 'Care of Magical Creatures', 'Astronomy'])\n",
    "test = np.column_stack((test['Herbology'] ,test['Defense Against the Dark Arts']))\n",
    "# test = test.dropna() #aulieu de dropna il faut fire la tang\n",
    "test = np.c_[np.ones(test.shape[0]), test]\n",
    "\n",
    "# test\n",
    "# solution"
   ]
  },
  {
   "cell_type": "code",
   "execution_count": null,
   "metadata": {},
   "outputs": [],
   "source": [
    "R = predict(test, thetaR)\n",
    "G = predict(test, thetaG)\n",
    "S = predict(test, thetaS)\n",
    "H = predict(test, thetaH)\n",
    "\n",
    "print ('Ravenclaw =', R, '\\nGryffindor = ', G, '\\nSlytherin =' , S, '\\nHufflepuff =' ,H)\n",
    "print (solution)"
   ]
  },
  {
   "cell_type": "code",
   "execution_count": null,
   "metadata": {},
   "outputs": [],
   "source": []
  },
  {
   "cell_type": "markdown",
   "metadata": {},
   "source": [
    "Calculez le pourcentage des éléments de p qui correspondent à ceux de y. Ça vous donne le score d'exactitude"
   ]
  },
  {
   "cell_type": "code",
   "execution_count": null,
   "metadata": {},
   "outputs": [],
   "source": [
    "precision = 0\n",
    "total = 0\n",
    "for tmp, ground_truth in zip(X, y):\n",
    "    result = round(predict(tmp, theta))\n",
    "    if result == ground_truth:\n",
    "        precision += 1\n",
    "    total += 1\n",
    "print((precision / total) * 100)"
   ]
  },
  {
   "cell_type": "markdown",
   "metadata": {},
   "source": [
    "Vous devriez avoir un score d'environ 89.0 %"
   ]
  },
  {
   "cell_type": "markdown",
   "metadata": {},
   "source": [
    "### Quelle est la précision, le recall et le F1-score de votre modele ? (écrivez trois fonctions pour obtenir chacunes de ces métriques)"
   ]
  },
  {
   "cell_type": "code",
   "execution_count": null,
   "metadata": {},
   "outputs": [],
   "source": [
    "def precision(X, y, theta):\n",
    "    true_pos = 0\n",
    "    false_pos = 0\n",
    "    for tmp, ground_truth in zip(X, y):\n",
    "        result = round(predict(tmp, theta))\n",
    "        if result == 1 and ground_truth == 1:\n",
    "            true_pos += 1\n",
    "        elif result == 1 and ground_truth == 0:\n",
    "            false_pos += 1\n",
    "    return((true_pos / (true_pos + false_pos + 0.001)) * 100)\n",
    "    \n",
    "def recall(X, y, theta):\n",
    "    true_pos = 0\n",
    "    false_neg = 0\n",
    "    for tmp, ground_truth in zip(X, y):\n",
    "        result = round(predict(tmp, theta))\n",
    "        if result == 1 and ground_truth == 1:\n",
    "            true_pos += 1\n",
    "        elif result == 0 and ground_truth == 1:\n",
    "            false_neg += 1\n",
    "    return((true_pos / (true_pos + false_neg + 0.001)) * 100)\n",
    "\n",
    "def f1_score(X, y, theta):\n",
    "    prec = precision(X, y, theta)\n",
    "    rec = recall(X, y, theta)\n",
    "    return (2 * ((prec * rec) / (prec + rec + 0.001)))\n",
    "\n",
    "print(\"precision : {}\".format(precision(X, y, theta)))\n",
    "print(\"recall : {}\".format(recall(X, y, theta)))\n",
    "print(\"f1_score : {}\".format(f1_score(X, y, theta)))"
   ]
  },
  {
   "cell_type": "markdown",
   "metadata": {},
   "source": [
    "### A l'aide de l'hyperparameter tuning (random search), trouvez les alpha et lambda qui permettent de maximiser le F1-score. Vous devrez entrainer plusieurs fois votre modele à l'aide de la fonction fit pour trouver ces parametres."
   ]
  },
  {
   "cell_type": "code",
   "execution_count": null,
   "metadata": {},
   "outputs": [],
   "source": [
    "alpha_range = [0.001, 0.002]\n",
    "def random_search(occurences=50,\n",
    "                  iters=100000,\n",
    "                  alpha_range = [0.001, 0.002]\n",
    "                  ):\n",
    "    a_history = []\n",
    "    f1_history = []\n",
    "    for _ in range(occurences):\n",
    "        tmp_alpha = np.random.uniform(alpha_range[0],alpha_range[1])\n",
    "        theta = np.zeros(3, dtype=float)\n",
    "        theta, J_history = fit(X, y, theta, tmp_alpha, iters)\n",
    "        a_history.append(tmp_alpha)\n",
    "        f1_history.append(f1_score(X, y, theta))\n",
    "    return (a_history, f1_history)\n",
    "a_history, f1_history = random_search(alpha_range=alpha_range)"
   ]
  },
  {
   "cell_type": "code",
   "execution_count": null,
   "metadata": {},
   "outputs": [],
   "source": [
    "sorted(f1_history, reverse=True)"
   ]
  },
  {
   "cell_type": "code",
   "execution_count": null,
   "metadata": {},
   "outputs": [],
   "source": [
    "max_10_index = list(np.argsort(f1_history[1])[-10:])\n",
    "min_a = 1.0\n",
    "max_a = 0.0\n",
    "for elem in max_10_index:\n",
    "    a = a_history[elem]\n",
    "    if a > max_a:\n",
    "        max_a = a\n",
    "    if a < min_a:\n",
    "        min_a = a\n",
    "alpha_range = [min_a, max_a]\n",
    "alpha_range"
   ]
  },
  {
   "cell_type": "markdown",
   "metadata": {},
   "source": [
    "## BONUS: Visualisez la frontière de décision (decision boundary) sur le graphe"
   ]
  },
  {
   "cell_type": "markdown",
   "metadata": {},
   "source": [
    "Pour ceux qui veulent découvrir Matplotlib, il faut ici afficher les données en deux nuages de points distincts (pour les deux classes) sur le même graphe, et aussi trouver une façon de tracer la fonction qui définit la frontière de décision. Amusez-vous bien, et surtout aidez-vous! Voici un exemple de ce que ça devrait donner:  \n",
    "<img src=\"figure-2.png\">"
   ]
  },
  {
   "cell_type": "code",
   "execution_count": null,
   "metadata": {},
   "outputs": [],
   "source": [
    "def get_intercept_slope(theta):\n",
    "    x_1 = 0\n",
    "    intercept = 0\n",
    "    pred = 0\n",
    "    while pred < 0.5:\n",
    "        p = [1, x_1, intercept]\n",
    "        intercept += 0.1\n",
    "        pred = predict(p, theta)\n",
    "    x_1 = 30\n",
    "    x_2 = 40\n",
    "    y_1 = 0\n",
    "    y_2 = 0\n",
    "    pred = 0\n",
    "    while pred < 0.5:\n",
    "        p = [1, x_1, y_1]\n",
    "        y_1 += 0.1\n",
    "        pred = predict(p, theta)\n",
    "    pred = 0\n",
    "    while pred < 0.5:\n",
    "        p = [1, x_2, y_2]\n",
    "        y_2 += 0.1\n",
    "        pred = predict(p, theta)\n",
    "    slop = (x_1 - x_2) / (y_1 - y_2)\n",
    "    return (intercept, slop)\n",
    "intercept, slop = get_intercept_slope(theta)\n",
    "\n",
    "def visualize(x, y, color, theta):\n",
    "    fig = plt.figure()\n",
    "    ax = plt.axes()\n",
    "    ax.scatter(x, y, c=color)\n",
    "    plt.plot(x, x * slop + intercept, 'b', linewidth=0.2)\n",
    "    plt.xlabel('Exam 1 score')\n",
    "    plt.ylabel('Exam 2 score')\n",
    "    plt.title('Figure 2: Training data with decision boundary')\n",
    "    plt.show()\n",
    "visualize(X[:,1], X[:,2], data.admission, theta)"
   ]
  },
  {
   "cell_type": "code",
   "execution_count": null,
   "metadata": {},
   "outputs": [],
   "source": []
  },
  {
   "cell_type": "code",
   "execution_count": null,
   "metadata": {},
   "outputs": [],
   "source": []
  },
  {
   "cell_type": "code",
   "execution_count": null,
   "metadata": {},
   "outputs": [],
   "source": []
  },
  {
   "cell_type": "code",
   "execution_count": null,
   "metadata": {},
   "outputs": [],
   "source": []
  },
  {
   "cell_type": "code",
   "execution_count": null,
   "metadata": {},
   "outputs": [],
   "source": []
  },
  {
   "cell_type": "code",
   "execution_count": null,
   "metadata": {},
   "outputs": [],
   "source": []
  },
  {
   "cell_type": "code",
   "execution_count": null,
   "metadata": {},
   "outputs": [],
   "source": []
  },
  {
   "cell_type": "code",
   "execution_count": null,
   "metadata": {},
   "outputs": [],
   "source": []
  },
  {
   "cell_type": "code",
   "execution_count": null,
   "metadata": {},
   "outputs": [],
   "source": []
  },
  {
   "cell_type": "code",
   "execution_count": null,
   "metadata": {},
   "outputs": [],
   "source": []
  },
  {
   "cell_type": "code",
   "execution_count": null,
   "metadata": {},
   "outputs": [],
   "source": []
  },
  {
   "cell_type": "code",
   "execution_count": null,
   "metadata": {},
   "outputs": [],
   "source": []
  },
  {
   "cell_type": "code",
   "execution_count": null,
   "metadata": {},
   "outputs": [],
   "source": []
  },
  {
   "cell_type": "code",
   "execution_count": null,
   "metadata": {},
   "outputs": [],
   "source": []
  },
  {
   "cell_type": "code",
   "execution_count": null,
   "metadata": {},
   "outputs": [],
   "source": []
  }
 ],
 "metadata": {
  "kernelspec": {
   "display_name": "Python 3",
   "language": "python",
   "name": "python3"
  },
  "language_info": {
   "codemirror_mode": {
    "name": "ipython",
    "version": 3
   },
   "file_extension": ".py",
   "mimetype": "text/x-python",
   "name": "python",
   "nbconvert_exporter": "python",
   "pygments_lexer": "ipython3",
   "version": "3.7.3"
  }
 },
 "nbformat": 4,
 "nbformat_minor": 2
}
