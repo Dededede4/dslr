{
 "cells": [
  {
   "cell_type": "markdown",
   "metadata": {},
   "source": [
    "# Régression logistique - Exercices tirés du MOOC d'Andrew Ng"
   ]
  },
  {
   "cell_type": "markdown",
   "metadata": {},
   "source": [
    "## Chargement des données"
   ]
  },
  {
   "cell_type": "markdown",
   "metadata": {},
   "source": [
    "Le jeu de données représente les chances de différents étudiants d'être admis à un programme universitaire en fonction de leurs résultats à deux examens"
   ]
  },
  {
   "cell_type": "markdown",
   "metadata": {},
   "source": [
    "### Charger les données du fichier ex2data1.csv"
   ]
  },
  {
   "cell_type": "code",
   "execution_count": 207,
   "metadata": {},
   "outputs": [],
   "source": [
    "import numpy as np\n",
    "import pandas as pd\n",
    "from tqdm import tqdm\n",
    "import matplotlib.pyplot as plt\n",
    "%matplotlib inline\n",
    "np.set_printoptions(formatter={'float': lambda x: \"{0:0.6f}\".format(x)})"
   ]
  },
  {
   "cell_type": "code",
   "execution_count": 227,
   "metadata": {},
   "outputs": [
    {
     "data": {
      "text/html": [
       "<div>\n",
       "<style scoped>\n",
       "    .dataframe tbody tr th:only-of-type {\n",
       "        vertical-align: middle;\n",
       "    }\n",
       "\n",
       "    .dataframe tbody tr th {\n",
       "        vertical-align: top;\n",
       "    }\n",
       "\n",
       "    .dataframe thead th {\n",
       "        text-align: right;\n",
       "    }\n",
       "</style>\n",
       "<table border=\"1\" class=\"dataframe\">\n",
       "  <thead>\n",
       "    <tr style=\"text-align: right;\">\n",
       "      <th></th>\n",
       "      <th>Herbology</th>\n",
       "      <th>Defense Against the Dark Arts</th>\n",
       "    </tr>\n",
       "  </thead>\n",
       "  <tbody>\n",
       "    <tr>\n",
       "      <th>count</th>\n",
       "      <td>1537.000000</td>\n",
       "      <td>1537.000000</td>\n",
       "    </tr>\n",
       "    <tr>\n",
       "      <th>mean</th>\n",
       "      <td>1.127582</td>\n",
       "      <td>-0.389471</td>\n",
       "    </tr>\n",
       "    <tr>\n",
       "      <th>std</th>\n",
       "      <td>5.217579</td>\n",
       "      <td>5.216176</td>\n",
       "    </tr>\n",
       "    <tr>\n",
       "      <th>min</th>\n",
       "      <td>-10.295663</td>\n",
       "      <td>-10.162119</td>\n",
       "    </tr>\n",
       "    <tr>\n",
       "      <th>25%</th>\n",
       "      <td>-4.312118</td>\n",
       "      <td>-5.243928</td>\n",
       "    </tr>\n",
       "    <tr>\n",
       "      <th>50%</th>\n",
       "      <td>3.464527</td>\n",
       "      <td>-2.589342</td>\n",
       "    </tr>\n",
       "    <tr>\n",
       "      <th>75%</th>\n",
       "      <td>5.401485</td>\n",
       "      <td>4.906820</td>\n",
       "    </tr>\n",
       "    <tr>\n",
       "      <th>max</th>\n",
       "      <td>11.612895</td>\n",
       "      <td>9.667405</td>\n",
       "    </tr>\n",
       "  </tbody>\n",
       "</table>\n",
       "</div>"
      ],
      "text/plain": [
       "         Herbology  Defense Against the Dark Arts\n",
       "count  1537.000000                    1537.000000\n",
       "mean      1.127582                      -0.389471\n",
       "std       5.217579                       5.216176\n",
       "min     -10.295663                     -10.162119\n",
       "25%      -4.312118                      -5.243928\n",
       "50%       3.464527                      -2.589342\n",
       "75%       5.401485                       4.906820\n",
       "max      11.612895                       9.667405"
      ]
     },
     "execution_count": 227,
     "metadata": {},
     "output_type": "execute_result"
    }
   ],
   "source": [
    "data = pd.read_csv(\"dataset_train.csv\")\n",
    "data = data.drop(columns = ['First Name', 'Last Name', 'Birthday', 'Best Hand', 'Index'])\n",
    "data = data.drop(columns = ['Arithmancy', 'Care of Magical Creatures', 'Astronomy'])\n",
    "data = data.drop(columns = ['Divination', 'Muggle Studies', 'History of Magic'])\n",
    "data = data.drop(columns = ['Transfiguration', 'Potions', 'Flying', 'Charms', 'Ancient Runes'])\n",
    "\n",
    "\n",
    "data = data.dropna() #aulieu de dropna il faut fire la tang\n",
    "data\n",
    "data.describe()"
   ]
  },
  {
   "cell_type": "markdown",
   "metadata": {},
   "source": [
    "### Visualiser les données"
   ]
  },
  {
   "cell_type": "markdown",
   "metadata": {},
   "source": [
    "Cette semaine nous vous fournissons la visualisation des données, mais normalement vous auriez à produire un graphe semblable avec matplotlib."
   ]
  },
  {
   "cell_type": "markdown",
   "metadata": {},
   "source": [
    "<img src=\"figure-1.png\">"
   ]
  },
  {
   "cell_type": "markdown",
   "metadata": {},
   "source": [
    "### Découpez vos données en une matrice X et un vecteur y et transformerz-les en array numpy"
   ]
  },
  {
   "cell_type": "code",
   "execution_count": 228,
   "metadata": {},
   "outputs": [],
   "source": [
    "X = np.column_stack((data['Herbology'] ,data['Defense Against the Dark Arts']))\n",
    "# X = data.copy()\n",
    "# X = X.drop(columns = ['Hogwarts House'])\n",
    "y = np.column_stack(data['Hogwarts House'])\n",
    "# X = np.c_[np.ones(X.shape[0]), X]"
   ]
  },
  {
   "cell_type": "code",
   "execution_count": 229,
   "metadata": {},
   "outputs": [
    {
     "data": {
      "text/plain": [
       "array([[5.727180, 4.878861],\n",
       "       [-5.987446, 5.520605],\n",
       "       [7.725017, 3.660761],\n",
       "       ...,\n",
       "       [-3.203269, -5.440189],\n",
       "       [3.442831, -4.536762],\n",
       "       [5.421046, -6.889120]])"
      ]
     },
     "execution_count": 229,
     "metadata": {},
     "output_type": "execute_result"
    }
   ],
   "source": [
    "X"
   ]
  },
  {
   "cell_type": "code",
   "execution_count": 230,
   "metadata": {},
   "outputs": [
    {
     "data": {
      "text/plain": [
       "array([[1.000000, 1.016712, 0.855742],\n",
       "       [1.000000, -1.206155, 0.977514],\n",
       "       [1.000000, 1.395804, 0.624606],\n",
       "       ...,\n",
       "       [1.000000, -0.677854, -1.102312],\n",
       "       [1.000000, 0.583253, -0.930886],\n",
       "       [1.000000, 0.958622, -1.377249]])"
      ]
     },
     "execution_count": 230,
     "metadata": {},
     "output_type": "execute_result"
    }
   ],
   "source": [
    "def normalise(x):\n",
    "    return (x - np.mean(x)) / np.std(x)\n",
    "\n",
    "X = normalise(X)\n",
    "X = np.c_[np.ones(X.shape[0]), X]\n",
    "X"
   ]
  },
  {
   "cell_type": "code",
   "execution_count": 231,
   "metadata": {},
   "outputs": [
    {
     "data": {
      "text/plain": [
       "(1537, 3)"
      ]
     },
     "execution_count": 231,
     "metadata": {},
     "output_type": "execute_result"
    }
   ],
   "source": [
    "X.shape"
   ]
  },
  {
   "cell_type": "code",
   "execution_count": 232,
   "metadata": {},
   "outputs": [
    {
     "data": {
      "text/plain": [
       "array([['Ravenclaw', 'Slytherin', 'Ravenclaw', ..., 'Gryffindor',\n",
       "        'Hufflepuff', 'Hufflepuff']], dtype='<U10')"
      ]
     },
     "execution_count": 232,
     "metadata": {},
     "output_type": "execute_result"
    }
   ],
   "source": [
    "y"
   ]
  },
  {
   "cell_type": "code",
   "execution_count": 233,
   "metadata": {},
   "outputs": [],
   "source": [
    "mask_Ravenclaw = y == \"Ravenclaw\"\n",
    "mask_Gryffindor = y == \"Gryffindor\"\n",
    "mask_Hufflepuff = y == \"Hufflepuff\"\n",
    "mask_Slytherin = y == \"Slytherin\""
   ]
  },
  {
   "cell_type": "code",
   "execution_count": 234,
   "metadata": {},
   "outputs": [],
   "source": [
    "# mask_Ravenclaw"
   ]
  },
  {
   "cell_type": "markdown",
   "metadata": {},
   "source": [
    "Vérifiez bien les dimensions de vos structures de données (X.shape)  \n",
    "Rappelez-vous qu'il est judicieux de fixer les dimensions des vecteurs, par ex. (3,) avec la fonction reshape(3,1).\n",
    "La matrice X doit-elle être de dimensions m x n ou bien m x (n+1) ? Quelle est la valeur de n?"
   ]
  },
  {
   "cell_type": "markdown",
   "metadata": {},
   "source": [
    "### Initialisez theta en un vecteur de zéros"
   ]
  },
  {
   "cell_type": "markdown",
   "metadata": {},
   "source": [
    "\n",
    "Combien de zéros vous faudra-t-il....?"
   ]
  },
  {
   "cell_type": "code",
   "execution_count": 235,
   "metadata": {},
   "outputs": [],
   "source": [
    "theta = np.zeros(X.shape[1])"
   ]
  },
  {
   "cell_type": "markdown",
   "metadata": {},
   "source": [
    "\n",
    "\n",
    "\n",
    "\n",
    "\n",
    "## Formulation de l'hypothèse"
   ]
  },
  {
   "cell_type": "markdown",
   "metadata": {},
   "source": [
    "Revoyez l'équation de l'hypothèse de la régression logistique. Le produit de theta et de X est enveloppé dans une fonction g(z) qui correspond à la fonction sigmoïde. Nous allons commencer par coder cette fonction."
   ]
  },
  {
   "cell_type": "markdown",
   "metadata": {},
   "source": [
    "### Écrivez une fonction _sigmoid_ qui applique la sigmoïde à son argument et retourne le résultat. Si elle reçoit une matrice ou un vecteur en input, elle doit s'appliquer sur chaque élément individuellement et retourner une structure de mêmes dimensions"
   ]
  },
  {
   "cell_type": "code",
   "execution_count": 236,
   "metadata": {},
   "outputs": [],
   "source": [
    "def sigmoid(z):\n",
    "    #print (np.exp(-z))\n",
    "    return (1 / (1 + np.exp(-z)))"
   ]
  },
  {
   "cell_type": "markdown",
   "metadata": {},
   "source": [
    "Vérifiez votre fonction. Quelle valeur renvoie une sigmoïde si z=0? Si z est grand? Si z est petit?  \n",
    "Il est possible que vous ayez un bug lorsque la fonction exponentielle reçoit des valeurs trop grandes. Dans ce cas vous pourrez éventuellement remplacer votre fonction sigmoïde par celle de scipy pour éviter des problèmes dans le reste de votre implémentation."
   ]
  },
  {
   "cell_type": "markdown",
   "metadata": {},
   "source": [
    "### Écrivez une fonction _predict_, qui correspond à l'hypohèse hθ(x), qui prend en paramètres X et theta, applique l'hypothèse du modèle avec la fonction sigmoide, et se débrouille pour que le résultat final soit un vecteur de 1 et de 0 correspondant aux catégories"
   ]
  },
  {
   "cell_type": "code",
   "execution_count": 237,
   "metadata": {},
   "outputs": [],
   "source": [
    "def predict(X, theta):\n",
    "    #print(X.shape, theta.shape)\n",
    "    res = sigmoid(np.dot(X, theta.T))\n",
    "    #print(res.shape)\n",
    "    #print(res)\n",
    "    return(res)"
   ]
  },
  {
   "cell_type": "markdown",
   "metadata": {},
   "source": [
    "## Entraînement du modèle"
   ]
  },
  {
   "cell_type": "markdown",
   "metadata": {},
   "source": [
    "\n",
    "\n",
    "### Définissez la fonction de coût de votre modèle"
   ]
  },
  {
   "cell_type": "code",
   "execution_count": 238,
   "metadata": {},
   "outputs": [],
   "source": [
    "def cost(X, y, theta):\n",
    "    return((-1 / X.shape[0]) * np.sum(y * np.log(predict(X, theta)) + (1 - y) * np.log(1 - predict(X, theta))))\n",
    "\n",
    "#((-1 / X.shape[0])\n",
    "#pensser a normaliser les donées en premier"
   ]
  },
  {
   "cell_type": "markdown",
   "metadata": {},
   "source": [
    "### Calculez le coût de votre modèle non entraîné. Vous devriez obtenir une valeur d'environ 0.693"
   ]
  },
  {
   "cell_type": "code",
   "execution_count": 239,
   "metadata": {},
   "outputs": [
    {
     "name": "stdout",
     "output_type": "stream",
     "text": [
      "0.6931471805599453\n"
     ]
    }
   ],
   "source": [
    "theta = np.zeros(X.shape[1], dtype=float)\n",
    "print (cost(X, mask_Ravenclaw, theta))"
   ]
  },
  {
   "cell_type": "markdown",
   "metadata": {},
   "source": [
    "### Écrivez une fonction _fit_ qui prend en arguments le vecteur X et le vecteur y des données d'entraînement et renvoie le vecteur de paramètres _theta_ qui a été appris, ainsi que l'évolution du coût"
   ]
  },
  {
   "cell_type": "markdown",
   "metadata": {},
   "source": [
    "Noter que l'exercice original ne fait pas faire la descente du gradient pour entraîner le modèle, mais plutôt une fonction d'optimisation avancée (_fminunc_ en Matlab). Nous tenterons de faire quand même la descente du gradient. Les plus téméraires peuvent aussi trouver une fonction d'optimisation équivalente en Python et comparer les résultats."
   ]
  },
  {
   "cell_type": "code",
   "execution_count": 240,
   "metadata": {},
   "outputs": [],
   "source": [
    "# def fit(X, y, theta, alpha, num_iters):\n",
    "#     # Initialiser certaines variables utiles\n",
    "#     m = X.shape[0]\n",
    "#     print (m)\n",
    "#     J_history = []\n",
    "#     for _ in range(num_iters):\n",
    "#         theta = theta - (alpha / m) * (np.dot(predict(X, theta) - y, X))\n",
    "#         #print(theta)\n",
    "#         J_history.append(cost(X, y, theta))\n",
    "#     return theta, J_history\n",
    "\n",
    "def fit(X, y, theta, alpha, num_iters):\n",
    "    # Initialiser certaines variables utiles\n",
    "    m = X.shape[0]\n",
    "    J_history = []\n",
    "    for _ in tqdm(range(num_iters)):\n",
    "        theta = theta - (alpha / m) * (np.dot(predict(X, theta) - y, X))\n",
    "        J_history.append(cost(X, y, theta))\n",
    "    return theta, J_history"
   ]
  },
  {
   "cell_type": "markdown",
   "metadata": {},
   "source": [
    "### Lancez l'apprentissage en appelant la fonction _fit_ et en prenant bien soin de récupérer le résultat de *theta* à la fin!!"
   ]
  },
  {
   "cell_type": "markdown",
   "metadata": {},
   "source": [
    "Voyez entre vous quelles valeurs semblent correctes pour alpha et num_iters"
   ]
  },
  {
   "cell_type": "code",
   "execution_count": 247,
   "metadata": {},
   "outputs": [
    {
     "name": "stderr",
     "output_type": "stream",
     "text": [
      "\n",
      "  0%|          | 0/50 [00:00<?, ?it/s]\u001b[A\n",
      "  4%|▍         | 2/50 [00:00<00:04, 11.22it/s]\u001b[A"
     ]
    },
    {
     "name": "stdout",
     "output_type": "stream",
     "text": [
      "(1537, 3) (3,) (1, 1537)\n"
     ]
    },
    {
     "name": "stderr",
     "output_type": "stream",
     "text": [
      "\n",
      "  6%|▌         | 3/50 [00:00<00:05,  8.11it/s]\u001b[A\n",
      "  8%|▊         | 4/50 [00:00<00:06,  7.35it/s]\u001b[A\n",
      " 10%|█         | 5/50 [00:00<00:06,  6.84it/s]\u001b[A\n",
      " 12%|█▏        | 6/50 [00:00<00:06,  6.61it/s]\u001b[A\n",
      " 14%|█▍        | 7/50 [00:01<00:06,  6.38it/s]\u001b[A\n",
      " 16%|█▌        | 8/50 [00:01<00:06,  6.03it/s]\u001b[A\n",
      " 18%|█▊        | 9/50 [00:01<00:07,  5.54it/s]\u001b[A\n",
      " 20%|██        | 10/50 [00:01<00:07,  5.24it/s]\u001b[A\n",
      " 22%|██▏       | 11/50 [00:01<00:07,  5.50it/s]\u001b[A\n",
      " 24%|██▍       | 12/50 [00:01<00:06,  5.61it/s]\u001b[A\n",
      " 26%|██▌       | 13/50 [00:02<00:06,  5.76it/s]\u001b[A\n",
      " 28%|██▊       | 14/50 [00:02<00:06,  5.65it/s]\u001b[A\n",
      " 30%|███       | 15/50 [00:02<00:06,  5.78it/s]\u001b[A\n",
      " 32%|███▏      | 16/50 [00:02<00:05,  5.89it/s]\u001b[A\n",
      " 34%|███▍      | 17/50 [00:02<00:05,  5.94it/s]\u001b[A\n",
      " 36%|███▌      | 18/50 [00:03<00:05,  5.95it/s]\u001b[A\n",
      " 38%|███▊      | 19/50 [00:03<00:05,  5.79it/s]\u001b[A\n",
      " 40%|████      | 20/50 [00:03<00:05,  5.92it/s]\u001b[A\n",
      " 42%|████▏     | 21/50 [00:03<00:05,  5.73it/s]\u001b[A\n",
      " 44%|████▍     | 22/50 [00:03<00:04,  5.87it/s]\u001b[A\n",
      " 46%|████▌     | 23/50 [00:03<00:04,  5.69it/s]\u001b[A\n",
      " 48%|████▊     | 24/50 [00:04<00:04,  5.83it/s]\u001b[A\n",
      " 50%|█████     | 25/50 [00:04<00:04,  5.93it/s]\u001b[A\n",
      " 52%|█████▏    | 26/50 [00:04<00:03,  6.03it/s]\u001b[A\n",
      " 54%|█████▍    | 27/50 [00:04<00:03,  6.10it/s]\u001b[A\n",
      " 56%|█████▌    | 28/50 [00:04<00:03,  6.12it/s]\u001b[A\n",
      " 58%|█████▊    | 29/50 [00:04<00:03,  6.14it/s]\u001b[A\n",
      " 60%|██████    | 30/50 [00:05<00:03,  6.18it/s]\u001b[A\n",
      " 62%|██████▏   | 31/50 [00:05<00:03,  6.17it/s]\u001b[A\n",
      " 64%|██████▍   | 32/50 [00:05<00:02,  6.18it/s]\u001b[A\n",
      " 66%|██████▌   | 33/50 [00:05<00:02,  6.25it/s]\u001b[A\n",
      " 68%|██████▊   | 34/50 [00:05<00:02,  6.16it/s]\u001b[A\n",
      " 70%|███████   | 35/50 [00:05<00:02,  6.07it/s]\u001b[A\n",
      " 72%|███████▏  | 36/50 [00:05<00:02,  6.02it/s]\u001b[A\n",
      " 74%|███████▍  | 37/50 [00:06<00:02,  5.96it/s]\u001b[A\n",
      " 76%|███████▌  | 38/50 [00:06<00:02,  5.85it/s]\u001b[A\n",
      " 78%|███████▊  | 39/50 [00:06<00:01,  5.92it/s]\u001b[A\n",
      " 80%|████████  | 40/50 [00:06<00:01,  5.26it/s]\u001b[A\n",
      " 82%|████████▏ | 41/50 [00:06<00:01,  5.39it/s]\u001b[A\n",
      " 84%|████████▍ | 42/50 [00:07<00:01,  5.36it/s]\u001b[A\n",
      " 86%|████████▌ | 43/50 [00:07<00:01,  5.31it/s]\u001b[A\n",
      " 88%|████████▊ | 44/50 [00:07<00:01,  5.47it/s]\u001b[A\n",
      " 90%|█████████ | 45/50 [00:07<00:00,  5.64it/s]\u001b[A\n",
      " 92%|█████████▏| 46/50 [00:07<00:00,  5.71it/s]\u001b[A\n",
      " 94%|█████████▍| 47/50 [00:07<00:00,  5.81it/s]\u001b[A\n",
      " 96%|█████████▌| 48/50 [00:08<00:00,  5.83it/s]\u001b[A\n",
      " 98%|█████████▊| 49/50 [00:08<00:00,  5.92it/s]\u001b[A\n",
      "100%|██████████| 50/50 [00:08<00:00,  5.94it/s]\u001b[A\n",
      "  0%|          | 0/50 [00:00<?, ?it/s]\u001b[A\n",
      "  4%|▍         | 2/50 [00:00<00:03, 13.02it/s]\u001b[A\n",
      "  6%|▌         | 3/50 [00:00<00:04,  9.48it/s]\u001b[A\n",
      "  8%|▊         | 4/50 [00:00<00:05,  8.17it/s]\u001b[A\n",
      " 10%|█         | 5/50 [00:00<00:06,  7.37it/s]\u001b[A\n",
      " 12%|█▏        | 6/50 [00:00<00:06,  6.93it/s]\u001b[A\n",
      " 14%|█▍        | 7/50 [00:00<00:06,  6.66it/s]\u001b[A\n",
      " 16%|█▌        | 8/50 [00:01<00:06,  6.43it/s]\u001b[A\n",
      " 18%|█▊        | 9/50 [00:01<00:06,  6.33it/s]\u001b[A\n",
      " 20%|██        | 10/50 [00:01<00:07,  5.60it/s]\u001b[A\n",
      " 22%|██▏       | 11/50 [00:01<00:06,  5.67it/s]\u001b[A\n",
      " 24%|██▍       | 12/50 [00:01<00:06,  5.81it/s]\u001b[A\n",
      " 26%|██▌       | 13/50 [00:02<00:06,  5.83it/s]\u001b[A\n",
      " 28%|██▊       | 14/50 [00:02<00:06,  5.93it/s]\u001b[A\n",
      " 30%|███       | 15/50 [00:02<00:06,  5.70it/s]\u001b[A\n",
      " 32%|███▏      | 16/50 [00:02<00:05,  5.71it/s]\u001b[A\n",
      " 34%|███▍      | 17/50 [00:02<00:05,  5.64it/s]\u001b[A\n",
      " 36%|███▌      | 18/50 [00:02<00:06,  5.21it/s]\u001b[A\n",
      " 38%|███▊      | 19/50 [00:03<00:06,  5.12it/s]\u001b[A\n",
      " 40%|████      | 20/50 [00:03<00:06,  4.94it/s]\u001b[A\n",
      " 42%|████▏     | 21/50 [00:03<00:06,  4.77it/s]\u001b[A\n",
      " 44%|████▍     | 22/50 [00:03<00:05,  4.91it/s]\u001b[A\n",
      " 46%|████▌     | 23/50 [00:03<00:05,  5.19it/s]\u001b[A\n",
      " 48%|████▊     | 24/50 [00:04<00:04,  5.46it/s]\u001b[A\n",
      " 50%|█████     | 25/50 [00:04<00:04,  5.65it/s]\u001b[A\n",
      " 52%|█████▏    | 26/50 [00:04<00:04,  5.74it/s]\u001b[A\n",
      " 54%|█████▍    | 27/50 [00:04<00:03,  5.78it/s]\u001b[A\n",
      " 56%|█████▌    | 28/50 [00:04<00:03,  5.59it/s]\u001b[A\n",
      " 58%|█████▊    | 29/50 [00:05<00:03,  5.64it/s]\u001b[A\n",
      " 60%|██████    | 30/50 [00:05<00:03,  5.65it/s]\u001b[A\n",
      " 62%|██████▏   | 31/50 [00:05<00:03,  5.79it/s]\u001b[A\n",
      " 64%|██████▍   | 32/50 [00:05<00:03,  5.93it/s]\u001b[A\n",
      " 66%|██████▌   | 33/50 [00:05<00:02,  6.03it/s]\u001b[A\n",
      " 68%|██████▊   | 34/50 [00:05<00:02,  6.10it/s]\u001b[A\n",
      " 70%|███████   | 35/50 [00:05<00:02,  6.19it/s]\u001b[A\n",
      " 72%|███████▏  | 36/50 [00:06<00:02,  6.18it/s]\u001b[A\n",
      " 74%|███████▍  | 37/50 [00:06<00:02,  6.24it/s]\u001b[A\n",
      " 76%|███████▌  | 38/50 [00:06<00:01,  6.29it/s]\u001b[A\n",
      " 78%|███████▊  | 39/50 [00:06<00:01,  6.32it/s]\u001b[A\n",
      " 80%|████████  | 40/50 [00:06<00:01,  6.27it/s]\u001b[A\n",
      " 82%|████████▏ | 41/50 [00:06<00:01,  6.28it/s]\u001b[A\n",
      " 84%|████████▍ | 42/50 [00:07<00:01,  6.31it/s]\u001b[A\n",
      " 86%|████████▌ | 43/50 [00:07<00:01,  6.24it/s]\u001b[A\n",
      " 88%|████████▊ | 44/50 [00:07<00:00,  6.16it/s]\u001b[A\n",
      " 90%|█████████ | 45/50 [00:07<00:00,  6.00it/s]\u001b[A\n",
      " 92%|█████████▏| 46/50 [00:07<00:00,  5.98it/s]\u001b[A\n",
      " 94%|█████████▍| 47/50 [00:07<00:00,  5.96it/s]\u001b[A\n",
      " 96%|█████████▌| 48/50 [00:08<00:00,  5.59it/s]\u001b[A\n",
      " 98%|█████████▊| 49/50 [00:08<00:00,  5.67it/s]\u001b[A\n",
      "100%|██████████| 50/50 [00:08<00:00,  5.80it/s]\u001b[A\n",
      "  0%|          | 0/50 [00:00<?, ?it/s]\u001b[A\n",
      "  4%|▍         | 2/50 [00:00<00:03, 13.21it/s]\u001b[A\n",
      "  6%|▌         | 3/50 [00:00<00:04,  9.69it/s]\u001b[A\n",
      "  8%|▊         | 4/50 [00:00<00:05,  8.24it/s]\u001b[A\n",
      " 10%|█         | 5/50 [00:00<00:06,  7.43it/s]\u001b[A\n",
      " 12%|█▏        | 6/50 [00:00<00:06,  7.05it/s]\u001b[A\n",
      " 14%|█▍        | 7/50 [00:00<00:06,  6.54it/s]\u001b[A\n",
      " 16%|█▌        | 8/50 [00:01<00:06,  6.32it/s]\u001b[A\n",
      " 18%|█▊        | 9/50 [00:01<00:06,  6.28it/s]\u001b[A\n",
      " 20%|██        | 10/50 [00:01<00:06,  6.17it/s]\u001b[A\n",
      " 22%|██▏       | 11/50 [00:01<00:06,  6.23it/s]\u001b[A\n",
      " 24%|██▍       | 12/50 [00:01<00:05,  6.34it/s]\u001b[A\n",
      " 26%|██▌       | 13/50 [00:01<00:05,  6.40it/s]\u001b[A\n",
      " 28%|██▊       | 14/50 [00:02<00:05,  6.41it/s]\u001b[A\n",
      " 30%|███       | 15/50 [00:02<00:05,  6.47it/s]\u001b[A\n",
      " 32%|███▏      | 16/50 [00:02<00:05,  6.39it/s]\u001b[A\n",
      " 34%|███▍      | 17/50 [00:02<00:05,  6.37it/s]\u001b[A\n",
      " 36%|███▌      | 18/50 [00:02<00:05,  6.34it/s]\u001b[A\n",
      " 38%|███▊      | 19/50 [00:02<00:04,  6.35it/s]\u001b[A\n",
      " 40%|████      | 20/50 [00:03<00:04,  6.35it/s]\u001b[A\n",
      " 42%|████▏     | 21/50 [00:03<00:04,  6.30it/s]\u001b[A\n",
      " 44%|████▍     | 22/50 [00:03<00:04,  6.21it/s]\u001b[A\n",
      " 46%|████▌     | 23/50 [00:03<00:04,  6.29it/s]\u001b[A\n",
      " 48%|████▊     | 24/50 [00:03<00:04,  6.25it/s]\u001b[A\n",
      " 50%|█████     | 25/50 [00:03<00:03,  6.33it/s]\u001b[A\n",
      " 52%|█████▏    | 26/50 [00:04<00:03,  6.42it/s]\u001b[A\n",
      " 54%|█████▍    | 27/50 [00:04<00:03,  6.39it/s]\u001b[A\n",
      " 56%|█████▌    | 28/50 [00:04<00:03,  6.47it/s]\u001b[A\n",
      " 58%|█████▊    | 29/50 [00:04<00:03,  6.59it/s]\u001b[A\n",
      " 60%|██████    | 30/50 [00:04<00:03,  6.50it/s]\u001b[A\n",
      " 62%|██████▏   | 31/50 [00:04<00:02,  6.38it/s]\u001b[A\n",
      " 64%|██████▍   | 32/50 [00:04<00:02,  6.39it/s]\u001b[A\n",
      " 66%|██████▌   | 33/50 [00:05<00:02,  6.46it/s]\u001b[A\n",
      " 68%|██████▊   | 34/50 [00:05<00:02,  6.41it/s]\u001b[A\n",
      " 70%|███████   | 35/50 [00:05<00:02,  6.45it/s]\u001b[A\n",
      " 72%|███████▏  | 36/50 [00:05<00:02,  6.50it/s]\u001b[A\n",
      " 74%|███████▍  | 37/50 [00:05<00:02,  6.43it/s]\u001b[A\n",
      " 76%|███████▌  | 38/50 [00:05<00:01,  6.48it/s]\u001b[A\n",
      " 78%|███████▊  | 39/50 [00:06<00:01,  6.48it/s]\u001b[A\n",
      " 80%|████████  | 40/50 [00:06<00:01,  6.39it/s]\u001b[A\n",
      " 82%|████████▏ | 41/50 [00:06<00:01,  6.32it/s]\u001b[A\n",
      " 84%|████████▍ | 42/50 [00:06<00:01,  6.40it/s]\u001b[A\n",
      " 86%|████████▌ | 43/50 [00:06<00:01,  6.47it/s]\u001b[A\n",
      " 88%|████████▊ | 44/50 [00:06<00:00,  6.51it/s]\u001b[A\n",
      " 90%|█████████ | 45/50 [00:06<00:00,  6.57it/s]\u001b[A\n",
      " 92%|█████████▏| 46/50 [00:07<00:00,  6.54it/s]\u001b[A\n",
      " 94%|█████████▍| 47/50 [00:07<00:00,  6.31it/s]\u001b[A\n",
      " 96%|█████████▌| 48/50 [00:07<00:00,  6.24it/s]\u001b[A\n",
      " 98%|█████████▊| 49/50 [00:07<00:00,  6.16it/s]\u001b[A\n",
      "100%|██████████| 50/50 [00:07<00:00,  6.22it/s]\u001b[A\n",
      "  0%|          | 0/50 [00:00<?, ?it/s]\u001b[A\n",
      "  4%|▍         | 2/50 [00:00<00:03, 14.65it/s]\u001b[A\n",
      "  6%|▌         | 3/50 [00:00<00:04, 10.41it/s]\u001b[A\n",
      "  8%|▊         | 4/50 [00:00<00:05,  8.86it/s]\u001b[A\n",
      " 10%|█         | 5/50 [00:00<00:05,  7.93it/s]\u001b[A\n",
      " 12%|█▏        | 6/50 [00:00<00:05,  7.50it/s]\u001b[A\n",
      " 14%|█▍        | 7/50 [00:00<00:06,  6.93it/s]\u001b[A\n",
      " 16%|█▌        | 8/50 [00:01<00:06,  6.76it/s]\u001b[A\n",
      " 18%|█▊        | 9/50 [00:01<00:06,  6.76it/s]\u001b[A\n",
      " 20%|██        | 10/50 [00:01<00:05,  6.74it/s]\u001b[A\n",
      " 22%|██▏       | 11/50 [00:01<00:05,  6.62it/s]\u001b[A\n",
      " 24%|██▍       | 12/50 [00:01<00:05,  6.48it/s]\u001b[A\n",
      " 26%|██▌       | 13/50 [00:01<00:05,  6.21it/s]\u001b[A\n"
     ]
    },
    {
     "name": "stderr",
     "output_type": "stream",
     "text": [
      " 28%|██▊       | 14/50 [00:02<00:05,  6.07it/s]\u001b[A\n",
      " 30%|███       | 15/50 [00:02<00:05,  6.20it/s]\u001b[A\n",
      " 32%|███▏      | 16/50 [00:02<00:05,  6.02it/s]\u001b[A\n",
      " 34%|███▍      | 17/50 [00:02<00:05,  6.03it/s]\u001b[A\n",
      " 36%|███▌      | 18/50 [00:02<00:05,  6.02it/s]\u001b[A\n",
      " 38%|███▊      | 19/50 [00:02<00:05,  6.07it/s]\u001b[A\n",
      " 40%|████      | 20/50 [00:03<00:05,  5.95it/s]\u001b[A\n",
      " 42%|████▏     | 21/50 [00:03<00:05,  5.72it/s]\u001b[A\n",
      " 44%|████▍     | 22/50 [00:03<00:05,  5.60it/s]\u001b[A\n",
      " 46%|████▌     | 23/50 [00:03<00:04,  5.52it/s]\u001b[A\n",
      " 48%|████▊     | 24/50 [00:03<00:04,  5.81it/s]\u001b[A\n",
      " 50%|█████     | 25/50 [00:03<00:04,  5.67it/s]\u001b[A\n",
      " 52%|█████▏    | 26/50 [00:04<00:04,  5.74it/s]\u001b[A\n",
      " 54%|█████▍    | 27/50 [00:04<00:03,  6.03it/s]\u001b[A\n",
      " 56%|█████▌    | 28/50 [00:04<00:03,  6.06it/s]\u001b[A\n",
      " 58%|█████▊    | 29/50 [00:04<00:03,  6.08it/s]\u001b[A\n",
      " 60%|██████    | 30/50 [00:04<00:03,  6.20it/s]\u001b[A\n",
      " 62%|██████▏   | 31/50 [00:04<00:03,  6.26it/s]\u001b[A\n",
      " 64%|██████▍   | 32/50 [00:05<00:02,  6.32it/s]\u001b[A\n",
      " 66%|██████▌   | 33/50 [00:05<00:02,  6.38it/s]\u001b[A\n",
      " 68%|██████▊   | 34/50 [00:05<00:02,  6.31it/s]\u001b[A\n",
      " 70%|███████   | 35/50 [00:05<00:02,  6.28it/s]\u001b[A\n",
      " 72%|███████▏  | 36/50 [00:05<00:02,  6.46it/s]\u001b[A\n",
      " 74%|███████▍  | 37/50 [00:05<00:02,  6.44it/s]\u001b[A\n",
      " 76%|███████▌  | 38/50 [00:05<00:01,  6.38it/s]\u001b[A\n",
      " 78%|███████▊  | 39/50 [00:06<00:01,  6.45it/s]\u001b[A\n",
      " 80%|████████  | 40/50 [00:06<00:01,  6.48it/s]\u001b[A\n",
      " 82%|████████▏ | 41/50 [00:06<00:01,  6.54it/s]\u001b[A\n",
      " 84%|████████▍ | 42/50 [00:06<00:01,  6.31it/s]\u001b[A\n",
      " 86%|████████▌ | 43/50 [00:06<00:01,  6.24it/s]\u001b[A\n",
      " 88%|████████▊ | 44/50 [00:06<00:01,  5.81it/s]\u001b[A\n",
      " 90%|█████████ | 45/50 [00:07<00:00,  6.03it/s]\u001b[A\n",
      " 92%|█████████▏| 46/50 [00:07<00:00,  6.06it/s]\u001b[A\n",
      " 94%|█████████▍| 47/50 [00:07<00:00,  6.29it/s]\u001b[A\n",
      " 96%|█████████▌| 48/50 [00:07<00:00,  6.34it/s]\u001b[A\n",
      " 98%|█████████▊| 49/50 [00:07<00:00,  6.40it/s]\u001b[A\n",
      "100%|██████████| 50/50 [00:07<00:00,  6.46it/s]\u001b[A"
     ]
    },
    {
     "name": "stdout",
     "output_type": "stream",
     "text": [
      "[[-0.011240 0.008573 0.015333]\n",
      " [-0.011134 0.008588 0.015318]\n",
      " [-0.011238 0.008573 0.015333]\n",
      " ...\n",
      " [-0.010967 0.008612 0.015294]\n",
      " [-0.011050 0.008600 0.015306]\n",
      " [-0.011027 0.008603 0.015303]]\n"
     ]
    }
   ],
   "source": [
    "# theta = np.zeros(3, dtype=float)\n",
    "print (X.shape, theta.shape, y.shape)\n",
    "\n",
    "\n",
    "# theta = np.zeros(X.shape[1], dtype=float)\n",
    "# thetaR, J_historyR = fit(X, mask_Ravenclaw, theta, 0.001, 600)\n",
    "# theta = np.zeros(X.shape[1], dtype=float)\n",
    "# thetaG, J_historyG = fit(X, mask_Gryffindor, theta, 0.001, 1100)\n",
    "# theta = np.zeros(X.shape[1], dtype=float)\n",
    "# thetaH, J_historyH = fit(X, mask_Hufflepuff, theta, 0.001, 200)\n",
    "# theta = np.zeros(X.shape[1], dtype=float)\n",
    "# thetaS, J_historyS = fit(X, mask_Slytherin, theta, 0.001, 1200)\n",
    "\n",
    "theta = np.zeros(X.shape[1], dtype=float)\n",
    "thetaR, J_historyR = fit(X, mask_Ravenclaw, theta, 0.001, 1)\n",
    "theta = np.zeros(X.shape[1], dtype=float)\n",
    "thetaG, J_historyG = fit(X, mask_Gryffindor, theta, 0.001, 1)\n",
    "theta = np.zeros(X.shape[1], dtype=float)\n",
    "thetaH, J_historyH = fit(X, mask_Hufflepuff, theta, 0.001, 1)\n",
    "theta = np.zeros(X.shape[1], dtype=float)\n",
    "thetaS, J_historyS = fit(X, mask_Slytherin, theta, 0.001, 1)\n",
    "\n",
    "\n",
    "print (thetaR)"
   ]
  },
  {
   "cell_type": "markdown",
   "metadata": {},
   "source": [
    "### Appelez la fonction _cost_ avec le nouveau theta après entraînement"
   ]
  },
  {
   "cell_type": "markdown",
   "metadata": {},
   "source": [
    "Vous devriez obtenir une valeur autour de 0.203"
   ]
  },
  {
   "cell_type": "code",
   "execution_count": 248,
   "metadata": {},
   "outputs": [],
   "source": [
    "# cost(X, mask_Ravenclaw, theta)\n",
    "thetas = np.array([thetaG[X.shape[0]-1], thetaS[X.shape[0]-1], thetaH[X.shape[0]-1], thetaR[X.shape[0]-1]])\n",
    "np.savetxt('thetas.csv', thetas, delimiter=',')"
   ]
  },
  {
   "cell_type": "markdown",
   "metadata": {},
   "source": [
    "### On visualise maintenant l'évolution du coût en fonction du nombre d'itérations"
   ]
  },
  {
   "cell_type": "code",
   "execution_count": 249,
   "metadata": {},
   "outputs": [
    {
     "data": {
      "text/plain": [
       "[<matplotlib.lines.Line2D at 0x11f3f8240>]"
      ]
     },
     "execution_count": 249,
     "metadata": {},
     "output_type": "execute_result"
    },
    {
     "data": {
      "image/png": "[encoded data removed]",
      "text/plain": [
       "<Figure size 432x288 with 1 Axes>"
      ]
     },
     "metadata": {
      "needs_background": "light"
     },
     "output_type": "display_data"
    }
   ],
   "source": [
    "fig = plt.figure()\n",
    "ax = plt.axes()\n",
    "ax.plot(J_historyR)\n",
    "ax.plot(J_historyG)\n",
    "ax.plot(J_historyH)\n",
    "ax.plot(J_historyS)"
   ]
  },
  {
   "cell_type": "markdown",
   "metadata": {},
   "source": [
    "## Évaluation de votre modèle"
   ]
  },
  {
   "cell_type": "markdown",
   "metadata": {},
   "source": [
    "Nous allons évaluer la performance du modèle de deux façons:"
   ]
  },
  {
   "cell_type": "markdown",
   "metadata": {},
   "source": [
    "### Évaluez la probabilité qu'un étudiant ayant obtenu 45 au premier examen, et 85 au deuxième, soit admis"
   ]
  },
  {
   "cell_type": "markdown",
   "metadata": {},
   "source": [
    "Vous devriez avoir une probabilité d'admission de 0.776"
   ]
  },
  {
   "cell_type": "markdown",
   "metadata": {},
   "source": []
  },
  {
   "cell_type": "markdown",
   "metadata": {},
   "source": [
    "### Évaluer l'exactitude (accuracy) des prédictions faites sur les données d'entraînement"
   ]
  },
  {
   "cell_type": "markdown",
   "metadata": {},
   "source": [
    "Utilisez votre fonction _predict_ sur les données d'entraînement (X) et récupérez les prédictions dans un vecteur p"
   ]
  },
  {
   "cell_type": "code",
   "execution_count": 130,
   "metadata": {},
   "outputs": [],
   "source": [
    "test = pd.read_csv(\"dataset_test.csv\")\n",
    "\n",
    "solution = pd.read_csv(\"Correction/dataset_truth.csv\")\n",
    "\n",
    "# solution = np.column_stack((solution['Herbology'] ,solution['Defense Against the Dark Arts']))\n",
    "\n",
    "test = test.drop(columns = ['Hogwarts House'])\n",
    "\n",
    "test = test.drop(columns = ['First Name', 'Last Name', 'Birthday', 'Best Hand', 'Index'])\n",
    "test = test.drop(columns = ['Arithmancy', 'Care of Magical Creatures', 'Astronomy'])\n",
    "\n",
    "test.describe()\n",
    "\n",
    "toto = np.column_stack((test['Herbology'] ,test['Defense Against the Dark Arts']))\n",
    "toto = np.column_stack((toto ,test['Ancient Runes']))\n",
    "\n",
    "\n",
    "# test = test.dropna() #aulieu de dropna il faut fire la tang\n",
    "\n",
    "a = 0\n",
    "while a < toto.shape[0]:\n",
    "    if np.isnan(toto[a][0]):\n",
    "#         print (test[a][0])\n",
    "        toto[a][0] = 5.055295\n",
    "#         print (test[a][0])\n",
    "    if np.isnan(toto[a][1]):\n",
    "#         print (test[a][1])\n",
    "        toto[a][1] = 5.118762\n",
    "#         print (test[a][1])\n",
    "    if np.isnan(toto[a][1]):\n",
    "#         print (test[a][1])\n",
    "        toto[a][2] = 101.657418\n",
    "    a += 1\n",
    "\n",
    "    \n",
    "# a = 0\n",
    "# b = 0\n",
    "# while a < test.shape[0]:\n",
    "#     b = 0\n",
    "#     while b < 11:\n",
    "#         if np.isnan(test[a][b]):\n",
    "#             test[a][b] = 0\n",
    "#             b += 1\n",
    "#     a += 1\n",
    "    \n",
    "toto = np.c_[np.ones(toto.shape[0]), toto]\n",
    "test = np.c_[np.ones(test.shape[0]), test]\n",
    "\n",
    "# toto\n",
    "# solution"
   ]
  },
  {
   "cell_type": "code",
   "execution_count": 131,
   "metadata": {},
   "outputs": [
    {
     "name": "stdout",
     "output_type": "stream",
     "text": [
      "Ravenclaw = [[0.195014 0.217875 0.177408 ... 0.217819 0.217853 0.217325]\n",
      " [1.000000 1.000000 1.000000 ... 1.000000 1.000000 1.000000]\n",
      " [0.000000 0.000000 0.000000 ... 0.000000 0.000000 0.000000]\n",
      " ...\n",
      " [0.000000 0.000000 0.000000 ... 0.000000 0.000000 0.000000]\n",
      " [1.000000 1.000000 1.000000 ... 1.000000 1.000000 1.000000]\n",
      " [nan nan nan ... nan nan nan]] \n",
      "Gryffindor =  [[0.000000 0.000000 0.000000 ... 0.000000 0.000000 0.000000]\n",
      " [0.000000 0.000000 0.000000 ... 0.000000 0.000000 0.000000]\n",
      " [0.000001 0.000001 0.000001 ... 0.000001 0.000001 0.000001]\n",
      " ...\n",
      " [0.000000 0.000000 0.000000 ... 0.000000 0.000000 0.000000]\n",
      " [0.000000 0.000000 0.000000 ... 0.000000 0.000000 0.000000]\n",
      " [nan nan nan ... nan nan nan]] \n",
      "Slytherin = [[1.000000 1.000000 1.000000 ... 1.000000 1.000000 1.000000]\n",
      " [0.000008 0.000007 0.000008 ... 0.000008 0.000008 0.000008]\n",
      " [1.000000 1.000000 1.000000 ... 1.000000 1.000000 1.000000]\n",
      " ...\n",
      " [1.000000 1.000000 1.000000 ... 1.000000 1.000000 1.000000]\n",
      " [0.000002 0.000002 0.000002 ... 0.000002 0.000002 0.000002]\n",
      " [nan nan nan ... nan nan nan]] \n",
      "Hufflepuff = [[1.000000 1.000000 1.000000 ... 1.000000 1.000000 1.000000]\n",
      " [0.000000 0.000000 0.000000 ... 0.000000 0.000000 0.000000]\n",
      " [1.000000 1.000000 1.000000 ... 1.000000 1.000000 1.000000]\n",
      " ...\n",
      " [1.000000 1.000000 1.000000 ... 1.000000 1.000000 1.000000]\n",
      " [0.000000 0.000000 0.000000 ... 0.000000 0.000000 0.000000]\n",
      " [nan nan nan ... nan nan nan]]\n",
      "     Index Hogwarts House\n",
      "0        0     Hufflepuff\n",
      "1        1      Ravenclaw\n",
      "2        2     Gryffindor\n",
      "3        3     Hufflepuff\n",
      "4        4     Hufflepuff\n",
      "5        5      Slytherin\n",
      "6        6      Ravenclaw\n",
      "7        7     Hufflepuff\n",
      "8        8      Ravenclaw\n",
      "9        9     Hufflepuff\n",
      "10      10     Hufflepuff\n",
      "11      11      Slytherin\n",
      "12      12      Slytherin\n",
      "13      13      Slytherin\n",
      "14      14      Slytherin\n",
      "15      15     Hufflepuff\n",
      "16      16      Ravenclaw\n",
      "17      17      Slytherin\n",
      "18      18      Ravenclaw\n",
      "19      19     Hufflepuff\n",
      "20      20     Hufflepuff\n",
      "21      21      Slytherin\n",
      "22      22      Ravenclaw\n",
      "23      23      Slytherin\n",
      "24      24     Hufflepuff\n",
      "25      25     Hufflepuff\n",
      "26      26      Ravenclaw\n",
      "27      27      Slytherin\n",
      "28      28     Gryffindor\n",
      "29      29      Ravenclaw\n",
      "..     ...            ...\n",
      "370    370      Slytherin\n",
      "371    371     Gryffindor\n",
      "372    372     Gryffindor\n",
      "373    373      Ravenclaw\n",
      "374    374     Hufflepuff\n",
      "375    375     Hufflepuff\n",
      "376    376      Ravenclaw\n",
      "377    377      Slytherin\n",
      "378    378     Gryffindor\n",
      "379    379      Slytherin\n",
      "380    380     Gryffindor\n",
      "381    381     Hufflepuff\n",
      "382    382     Gryffindor\n",
      "383    383     Gryffindor\n",
      "384    384     Gryffindor\n",
      "385    385     Gryffindor\n",
      "386    386      Ravenclaw\n",
      "387    387      Ravenclaw\n",
      "388    388     Hufflepuff\n",
      "389    389      Ravenclaw\n",
      "390    390      Slytherin\n",
      "391    391     Hufflepuff\n",
      "392    392     Hufflepuff\n",
      "393    393      Ravenclaw\n",
      "394    394      Ravenclaw\n",
      "395    395      Slytherin\n",
      "396    396     Hufflepuff\n",
      "397    397     Hufflepuff\n",
      "398    398      Ravenclaw\n",
      "399    399      Ravenclaw\n",
      "\n",
      "[400 rows x 2 columns]\n"
     ]
    }
   ],
   "source": [
    "R = predict(test, thetaR)\n",
    "G = predict(test, thetaG)\n",
    "S = predict(test, thetaS)\n",
    "H = predict(test, thetaH)\n",
    "\n",
    "print ('Ravenclaw =', R, '\\nGryffindor = ', G, '\\nSlytherin =' , S, '\\nHufflepuff =' ,H)\n",
    "print (solution)"
   ]
  },
  {
   "cell_type": "code",
   "execution_count": 134,
   "metadata": {},
   "outputs": [
    {
     "ename": "ValueError",
     "evalue": "The truth value of an array with more than one element is ambiguous. Use a.any() or a.all()",
     "output_type": "error",
     "traceback": [
      "\u001b[0;31m--------------------------------------------------------\u001b[0m",
      "\u001b[0;31mValueError\u001b[0m             Traceback (most recent call last)",
      "\u001b[0;32m<ipython-input-134-6fe8a34bc07e>\u001b[0m in \u001b[0;36m<module>\u001b[0;34m\u001b[0m\n\u001b[1;32m      1\u001b[0m \u001b[0mresult\u001b[0m \u001b[0;34m=\u001b[0m \u001b[0mnp\u001b[0m\u001b[0;34m.\u001b[0m\u001b[0marray\u001b[0m\u001b[0;34m(\u001b[0m\u001b[0;34m[\u001b[0m\u001b[0;34m[\u001b[0m\u001b[0;34m\"Index\"\u001b[0m\u001b[0;34m,\u001b[0m \u001b[0;34m\"Hogwarts House\"\u001b[0m\u001b[0;34m]\u001b[0m\u001b[0;34m]\u001b[0m\u001b[0;34m)\u001b[0m\u001b[0;34m\u001b[0m\u001b[0;34m\u001b[0m\u001b[0m\n\u001b[1;32m      2\u001b[0m \u001b[0;32mfor\u001b[0m \u001b[0mi\u001b[0m \u001b[0;32min\u001b[0m \u001b[0mrange\u001b[0m\u001b[0;34m(\u001b[0m\u001b[0mlen\u001b[0m\u001b[0;34m(\u001b[0m\u001b[0mR\u001b[0m\u001b[0;34m)\u001b[0m\u001b[0;34m)\u001b[0m\u001b[0;34m:\u001b[0m\u001b[0;34m\u001b[0m\u001b[0;34m\u001b[0m\u001b[0m\n\u001b[0;32m----> 3\u001b[0;31m     \u001b[0mis_r\u001b[0m \u001b[0;34m=\u001b[0m \u001b[0;32mTrue\u001b[0m \u001b[0;32mif\u001b[0m \u001b[0mR\u001b[0m\u001b[0;34m[\u001b[0m\u001b[0mi\u001b[0m\u001b[0;34m]\u001b[0m \u001b[0;34m>=\u001b[0m \u001b[0mG\u001b[0m\u001b[0;34m[\u001b[0m\u001b[0mi\u001b[0m\u001b[0;34m]\u001b[0m \u001b[0;32mand\u001b[0m \u001b[0mR\u001b[0m\u001b[0;34m[\u001b[0m\u001b[0mi\u001b[0m\u001b[0;34m]\u001b[0m \u001b[0;34m>=\u001b[0m \u001b[0mS\u001b[0m\u001b[0;34m[\u001b[0m\u001b[0mi\u001b[0m\u001b[0;34m]\u001b[0m \u001b[0;32mand\u001b[0m \u001b[0mR\u001b[0m\u001b[0;34m[\u001b[0m\u001b[0mi\u001b[0m\u001b[0;34m]\u001b[0m \u001b[0;34m>=\u001b[0m \u001b[0mH\u001b[0m\u001b[0;34m[\u001b[0m\u001b[0mi\u001b[0m\u001b[0;34m]\u001b[0m \u001b[0;32melse\u001b[0m \u001b[0;32mFalse\u001b[0m\u001b[0;34m\u001b[0m\u001b[0;34m\u001b[0m\u001b[0m\n\u001b[0m\u001b[1;32m      4\u001b[0m     \u001b[0mis_g\u001b[0m \u001b[0;34m=\u001b[0m \u001b[0;32mTrue\u001b[0m \u001b[0;32mif\u001b[0m \u001b[0mG\u001b[0m\u001b[0;34m[\u001b[0m\u001b[0mi\u001b[0m\u001b[0;34m]\u001b[0m \u001b[0;34m>=\u001b[0m \u001b[0mR\u001b[0m\u001b[0;34m[\u001b[0m\u001b[0mi\u001b[0m\u001b[0;34m]\u001b[0m \u001b[0;32mand\u001b[0m \u001b[0mG\u001b[0m\u001b[0;34m[\u001b[0m\u001b[0mi\u001b[0m\u001b[0;34m]\u001b[0m \u001b[0;34m>=\u001b[0m \u001b[0mS\u001b[0m\u001b[0;34m[\u001b[0m\u001b[0mi\u001b[0m\u001b[0;34m]\u001b[0m \u001b[0;32mand\u001b[0m \u001b[0mG\u001b[0m\u001b[0;34m[\u001b[0m\u001b[0mi\u001b[0m\u001b[0;34m]\u001b[0m \u001b[0;34m>=\u001b[0m \u001b[0mH\u001b[0m\u001b[0;34m[\u001b[0m\u001b[0mi\u001b[0m\u001b[0;34m]\u001b[0m \u001b[0;32melse\u001b[0m \u001b[0;32mFalse\u001b[0m\u001b[0;34m\u001b[0m\u001b[0;34m\u001b[0m\u001b[0m\n\u001b[1;32m      5\u001b[0m     \u001b[0mis_s\u001b[0m \u001b[0;34m=\u001b[0m \u001b[0;32mTrue\u001b[0m \u001b[0;32mif\u001b[0m \u001b[0mS\u001b[0m\u001b[0;34m[\u001b[0m\u001b[0mi\u001b[0m\u001b[0;34m]\u001b[0m \u001b[0;34m>=\u001b[0m \u001b[0mR\u001b[0m\u001b[0;34m[\u001b[0m\u001b[0mi\u001b[0m\u001b[0;34m]\u001b[0m \u001b[0;32mand\u001b[0m \u001b[0mS\u001b[0m\u001b[0;34m[\u001b[0m\u001b[0mi\u001b[0m\u001b[0;34m]\u001b[0m \u001b[0;34m>=\u001b[0m \u001b[0mG\u001b[0m\u001b[0;34m[\u001b[0m\u001b[0mi\u001b[0m\u001b[0;34m]\u001b[0m \u001b[0;32mand\u001b[0m \u001b[0mS\u001b[0m\u001b[0;34m[\u001b[0m\u001b[0mi\u001b[0m\u001b[0;34m]\u001b[0m \u001b[0;34m>=\u001b[0m \u001b[0mH\u001b[0m\u001b[0;34m[\u001b[0m\u001b[0mi\u001b[0m\u001b[0;34m]\u001b[0m \u001b[0;32melse\u001b[0m \u001b[0;32mFalse\u001b[0m\u001b[0;34m\u001b[0m\u001b[0;34m\u001b[0m\u001b[0m\n",
      "\u001b[0;31mValueError\u001b[0m: The truth value of an array with more than one element is ambiguous. Use a.any() or a.all()"
     ]
    }
   ],
   "source": [
    "result = np.array([[\"Index\", \"Hogwarts House\"]])\n",
    "for i in range(len(R)):\n",
    "    is_r = True if R[i] >= G[i] and R[i] >= S[i] and R[i] >= H[i] else False\n",
    "    is_g = True if G[i] >= R[i] and G[i] >= S[i] and G[i] >= H[i] else False\n",
    "    is_s = True if S[i] >= R[i] and S[i] >= G[i] and S[i] >= H[i] else False\n",
    "    is_h = True if H[i] >= R[i] and H[i] >= G[i] and H[i] >= S[i] else False\n",
    "\n",
    "    if is_r :\n",
    "        house = \"Ravenclaw\"\n",
    "    elif is_g :\n",
    "        house = \"Gryffindor\"\n",
    "    elif is_s :\n",
    "        house = \"Slytherin\"\n",
    "    else :\n",
    "        house = \"Hufflepuff\"\n",
    "    result = np.append (result, [[ids[i], house]], axis = 0)\n",
    "\n",
    "np.savetxt('houses.csv', result, delimiter=',', fmt=\"%s\")"
   ]
  },
  {
   "cell_type": "markdown",
   "metadata": {},
   "source": [
    "Calculez le pourcentage des éléments de p qui correspondent à ceux de y. Ça vous donne le score d'exactitude"
   ]
  },
  {
   "cell_type": "code",
   "execution_count": 21,
   "metadata": {},
   "outputs": [
    {
     "name": "stdout",
     "output_type": "stream",
     "text": [
      "0.0\n"
     ]
    },
    {
     "name": "stderr",
     "output_type": "stream",
     "text": [
      "/Users/jaustry/sgoinfre/miniconda3/lib/python3.7/site-packages/ipykernel_launcher.py:5: FutureWarning: elementwise comparison failed; returning scalar instead, but in the future will perform elementwise comparison\n",
      "  \"\"\"\n"
     ]
    }
   ],
   "source": [
    "precision = 0\n",
    "total = 0\n",
    "for tmp, ground_truth in zip(X, y):\n",
    "    result = round(predict(tmp, theta))\n",
    "    if result == ground_truth:\n",
    "        precision += 1\n",
    "    total += 1\n",
    "print((precision / total) * 100)"
   ]
  },
  {
   "cell_type": "markdown",
   "metadata": {},
   "source": [
    "Vous devriez avoir un score d'environ 89.0 %"
   ]
  },
  {
   "cell_type": "markdown",
   "metadata": {},
   "source": [
    "### Quelle est la précision, le recall et le F1-score de votre modele ? (écrivez trois fonctions pour obtenir chacunes de ces métriques)"
   ]
  },
  {
   "cell_type": "code",
   "execution_count": null,
   "metadata": {},
   "outputs": [],
   "source": [
    "def precision(X, y, theta):\n",
    "    true_pos = 0\n",
    "    false_pos = 0\n",
    "    for tmp, ground_truth in zip(X, y):\n",
    "        result = round(predict(tmp, theta))\n",
    "        if result == 1 and ground_truth == 1:\n",
    "            true_pos += 1\n",
    "        elif result == 1 and ground_truth == 0:\n",
    "            false_pos += 1\n",
    "    return((true_pos / (true_pos + false_pos + 0.001)) * 100)\n",
    "    \n",
    "def recall(X, y, theta):\n",
    "    true_pos = 0\n",
    "    false_neg = 0\n",
    "    for tmp, ground_truth in zip(X, y):\n",
    "        result = round(predict(tmp, theta))\n",
    "        if result == 1 and ground_truth == 1:\n",
    "            true_pos += 1\n",
    "        elif result == 0 and ground_truth == 1:\n",
    "            false_neg += 1\n",
    "    return((true_pos / (true_pos + false_neg + 0.001)) * 100)\n",
    "\n",
    "def f1_score(X, y, theta):\n",
    "    prec = precision(X, y, theta)\n",
    "    rec = recall(X, y, theta)\n",
    "    return (2 * ((prec * rec) / (prec + rec + 0.001)))\n",
    "\n",
    "print(\"precision : {}\".format(precision(X, y, theta)))\n",
    "print(\"recall : {}\".format(recall(X, y, theta)))\n",
    "print(\"f1_score : {}\".format(f1_score(X, y, theta)))"
   ]
  },
  {
   "cell_type": "markdown",
   "metadata": {},
   "source": [
    "### A l'aide de l'hyperparameter tuning (random search), trouvez les alpha et lambda qui permettent de maximiser le F1-score. Vous devrez entrainer plusieurs fois votre modele à l'aide de la fonction fit pour trouver ces parametres."
   ]
  },
  {
   "cell_type": "code",
   "execution_count": null,
   "metadata": {},
   "outputs": [],
   "source": [
    "alpha_range = [0.001, 0.002]\n",
    "def random_search(occurences=50,\n",
    "                  iters=100000,\n",
    "                  alpha_range = [0.001, 0.002]\n",
    "                  ):\n",
    "    a_history = []\n",
    "    f1_history = []\n",
    "    for _ in range(occurences):\n",
    "        tmp_alpha = np.random.uniform(alpha_range[0],alpha_range[1])\n",
    "        theta = np.zeros(3, dtype=float)\n",
    "        theta, J_history = fit(X, y, theta, tmp_alpha, iters)\n",
    "        a_history.append(tmp_alpha)\n",
    "        f1_history.append(f1_score(X, y, theta))\n",
    "    return (a_history, f1_history)\n",
    "a_history, f1_history = random_search(alpha_range=alpha_range)"
   ]
  },
  {
   "cell_type": "code",
   "execution_count": null,
   "metadata": {},
   "outputs": [],
   "source": [
    "sorted(f1_history, reverse=True)"
   ]
  },
  {
   "cell_type": "code",
   "execution_count": null,
   "metadata": {},
   "outputs": [],
   "source": [
    "max_10_index = list(np.argsort(f1_history[1])[-10:])\n",
    "min_a = 1.0\n",
    "max_a = 0.0\n",
    "for elem in max_10_index:\n",
    "    a = a_history[elem]\n",
    "    if a > max_a:\n",
    "        max_a = a\n",
    "    if a < min_a:\n",
    "        min_a = a\n",
    "alpha_range = [min_a, max_a]\n",
    "alpha_range"
   ]
  },
  {
   "cell_type": "markdown",
   "metadata": {},
   "source": [
    "## BONUS: Visualisez la frontière de décision (decision boundary) sur le graphe"
   ]
  },
  {
   "cell_type": "markdown",
   "metadata": {},
   "source": [
    "Pour ceux qui veulent découvrir Matplotlib, il faut ici afficher les données en deux nuages de points distincts (pour les deux classes) sur le même graphe, et aussi trouver une façon de tracer la fonction qui définit la frontière de décision. Amusez-vous bien, et surtout aidez-vous! Voici un exemple de ce que ça devrait donner:  \n",
    "<img src=\"figure-2.png\">"
   ]
  },
  {
   "cell_type": "code",
   "execution_count": null,
   "metadata": {},
   "outputs": [],
   "source": [
    "def get_intercept_slope(theta):\n",
    "    x_1 = 0\n",
    "    intercept = 0\n",
    "    pred = 0\n",
    "    while pred < 0.5:\n",
    "        p = [1, x_1, intercept]\n",
    "        intercept += 0.1\n",
    "        pred = predict(p, theta)\n",
    "    x_1 = 30\n",
    "    x_2 = 40\n",
    "    y_1 = 0\n",
    "    y_2 = 0\n",
    "    pred = 0\n",
    "    while pred < 0.5:\n",
    "        p = [1, x_1, y_1]\n",
    "        y_1 += 0.1\n",
    "        pred = predict(p, theta)\n",
    "    pred = 0\n",
    "    while pred < 0.5:\n",
    "        p = [1, x_2, y_2]\n",
    "        y_2 += 0.1\n",
    "        pred = predict(p, theta)\n",
    "    slop = (x_1 - x_2) / (y_1 - y_2)\n",
    "    return (intercept, slop)\n",
    "intercept, slop = get_intercept_slope(theta)\n",
    "\n",
    "def visualize(x, y, color, theta):\n",
    "    fig = plt.figure()\n",
    "    ax = plt.axes()\n",
    "    ax.scatter(x, y, c=color)\n",
    "    plt.plot(x, x * slop + intercept, 'b', linewidth=0.2)\n",
    "    plt.xlabel('Exam 1 score')\n",
    "    plt.ylabel('Exam 2 score')\n",
    "    plt.title('Figure 2: Training data with decision boundary')\n",
    "    plt.show()\n",
    "visualize(X[:,1], X[:,2], data.admission, theta)"
   ]
  },
  {
   "cell_type": "code",
   "execution_count": null,
   "metadata": {},
   "outputs": [],
   "source": []
  },
  {
   "cell_type": "code",
   "execution_count": null,
   "metadata": {},
   "outputs": [],
   "source": []
  },
  {
   "cell_type": "code",
   "execution_count": null,
   "metadata": {},
   "outputs": [],
   "source": []
  },
  {
   "cell_type": "code",
   "execution_count": null,
   "metadata": {},
   "outputs": [],
   "source": []
  },
  {
   "cell_type": "code",
   "execution_count": null,
   "metadata": {},
   "outputs": [],
   "source": []
  },
  {
   "cell_type": "code",
   "execution_count": null,
   "metadata": {},
   "outputs": [],
   "source": []
  },
  {
   "cell_type": "code",
   "execution_count": null,
   "metadata": {},
   "outputs": [],
   "source": []
  },
  {
   "cell_type": "code",
   "execution_count": null,
   "metadata": {},
   "outputs": [],
   "source": []
  },
  {
   "cell_type": "code",
   "execution_count": null,
   "metadata": {},
   "outputs": [],
   "source": []
  },
  {
   "cell_type": "code",
   "execution_count": null,
   "metadata": {},
   "outputs": [],
   "source": []
  },
  {
   "cell_type": "code",
   "execution_count": null,
   "metadata": {},
   "outputs": [],
   "source": []
  },
  {
   "cell_type": "code",
   "execution_count": null,
   "metadata": {},
   "outputs": [],
   "source": []
  },
  {
   "cell_type": "code",
   "execution_count": null,
   "metadata": {},
   "outputs": [],
   "source": []
  },
  {
   "cell_type": "code",
   "execution_count": null,
   "metadata": {},
   "outputs": [],
   "source": []
  },
  {
   "cell_type": "code",
   "execution_count": null,
   "metadata": {},
   "outputs": [],
   "source": []
  }
 ],
 "metadata": {
  "kernelspec": {
   "display_name": "Python 3",
   "language": "python",
   "name": "python3"
  },
  "language_info": {
   "codemirror_mode": {
    "name": "ipython",
    "version": 3
   },
   "file_extension": ".py",
   "mimetype": "text/x-python",
   "name": "python",
   "nbconvert_exporter": "python",
   "pygments_lexer": "ipython3",
   "version": "3.7.1"
  }
 },
 "nbformat": 4,
 "nbformat_minor": 2
}
